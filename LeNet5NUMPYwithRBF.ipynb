{
 "cells": [
  {
   "cell_type": "markdown",
   "metadata": {
    "colab_type": "text",
    "id": "UJUdVw04nu61"
   },
   "source": [
    "\n",
    "# LOG: LeNet Implementation (In partial fulfilment of the course NNFL )   \n",
    "\n",
    "GROUP 1 (12 Feb 2020): \n",
    "\n",
    "Added vanilla implementation of LeNet.\n",
    "\n",
    "Includes layers uptil F6 and its activation\n",
    "Only forward propagation is implemented\n",
    "\n",
    "Passing on to Group 13 for further work\n",
    "\n",
    "************************************************************************\n",
    "Authors : Arshia Arya, Harnoor Dhingra, Ishita Mediratta, Jahanvi Shah, Nidhi Ravishankar\n",
    "************************************************************************\n",
    "\n",
    "######################################################################################################\n",
    "\n",
    "GROUP 13 (14 Feb 2020): \n",
    "\n",
    "Added RBF output layer of LeNet.\n",
    "\n",
    "Includes manually set Bitmaps (dim: 12*7) for digits 0-9.\n",
    "\n",
    "Forward pass for training & inference for RBF layer is implemented. (Backpropagation not implemented)\n",
    "\n",
    "************************************************************************\n",
    "Authors : Sharad Chitlangia, Rajaswa Patil, Advait Pradhan, Vaibhav Mittal, Urvil Jivani, Kush Jain\n",
    "************************************************************************"
   ]
  },
  {
   "cell_type": "code",
   "execution_count": 0,
   "metadata": {
    "colab": {},
    "colab_type": "code",
    "id": "Z0SxLTOAcuBo"
   },
   "outputs": [],
   "source": [
    "import numpy as np \n",
    "import sys\n",
    "import pickle\n",
    "import matplotlib.pyplot as plt\n",
    "import matplotlib.image as mpimg\n",
    "import matplotlib as mpl\n",
    "import time\n",
    "import struct\n",
    "import math\n",
    "import random"
   ]
  },
  {
   "cell_type": "code",
   "execution_count": 2,
   "metadata": {
    "colab": {
     "base_uri": "https://localhost:8080/",
     "height": 81
    },
    "colab_type": "code",
    "id": "wqIphu8dcuBv",
    "outputId": "60c2577f-5968-4a71-ed5e-de1b5f966d2b"
   },
   "outputs": [
    {
     "name": "stderr",
     "output_type": "stream",
     "text": [
      "Using TensorFlow backend.\n"
     ]
    },
    {
     "data": {
      "text/html": [
       "<p style=\"color: red;\">\n",
       "The default version of TensorFlow in Colab will soon switch to TensorFlow 2.x.<br>\n",
       "We recommend you <a href=\"https://www.tensorflow.org/guide/migrate\" target=\"_blank\">upgrade</a> now \n",
       "or ensure your notebook will continue to use TensorFlow 1.x via the <code>%tensorflow_version 1.x</code> magic:\n",
       "<a href=\"https://colab.research.google.com/notebooks/tensorflow_version.ipynb\" target=\"_blank\">more info</a>.</p>\n"
      ],
      "text/plain": [
       "<IPython.core.display.HTML object>"
      ]
     },
     "metadata": {
      "tags": []
     },
     "output_type": "display_data"
    }
   ],
   "source": [
    "\n",
    "from keras.datasets import mnist\n",
    "# Load dataset as train and test sets\n",
    "(x_train, y_train), (x_test, y_test) = mnist.load_data()"
   ]
  },
  {
   "cell_type": "code",
   "execution_count": 3,
   "metadata": {
    "colab": {
     "base_uri": "https://localhost:8080/",
     "height": 104
    },
    "colab_type": "code",
    "id": "797oqDd7cuB0",
    "outputId": "7d3e4008-2dbf-4f5e-98e5-738cc78a8bab"
   },
   "outputs": [
    {
     "name": "stdout",
     "output_type": "stream",
     "text": [
      "The shape of training image: (60000, 28, 28)\n",
      "The shape of testing image:  (10000, 28, 28)\n",
      "Length of the training set:  60000\n",
      "Length of the training set:  10000\n",
      "Shape of a single image:  (28, 28)\n"
     ]
    }
   ],
   "source": [
    "n_m, n_m_test = len(y_train), len(y_test)\n",
    "print(\"The shape of training image:\", x_train.shape)\n",
    "print(\"The shape of testing image: \", x_test.shape)\n",
    "print(\"Length of the training set: \", n_m)\n",
    "print(\"Length of the training set: \", n_m_test)\n",
    "print(\"Shape of a single image: \", x_train[0].shape)"
   ]
  },
  {
   "cell_type": "markdown",
   "metadata": {
    "colab_type": "text",
    "id": "krC-LuR3cuB4"
   },
   "source": [
    "Before feeding the images into the ConvNet, zero-padding with pad=2 is used. The MNIST data that TensorFlow pre-loads comes as 28x28x1 images.\n",
    "\n",
    "However, the LeNet architecture only accepts 32x32xC images, where C is the number of color channels.\n",
    "In order to reformat the MNIST data into a shape that LeNet will accept, we pad the data with two rows of zeros on the top and bottom, and two columns of zeros on the left and right (28+2+2 = 32).\n",
    "\n",
    "\n",
    "The normalization method used in the original paper of LeNet5 is scaling and translating the pixel values to the range of [-0.1, 1.175], which makes the mean of pixel values in each image approxiamtely equals to 0.\n",
    "\n"
   ]
  },
  {
   "cell_type": "code",
   "execution_count": 4,
   "metadata": {
    "colab": {
     "base_uri": "https://localhost:8080/",
     "height": 52
    },
    "colab_type": "code",
    "id": "iZC0GWoWcuB5",
    "outputId": "fead6064-2e00-4257-bd56-e61971bda03c"
   },
   "outputs": [
    {
     "name": "stdout",
     "output_type": "stream",
     "text": [
      "The shape of training image with padding: (60000, 32, 32, 1)\n",
      "The shape of testing image with padding:  (10000, 32, 32, 1)\n"
     ]
    }
   ],
   "source": [
    "# Set numeric type to float32 from uint8\n",
    "x_train = x_train.astype('float32')\n",
    "x_test = x_test.astype('float32')\n",
    "\n",
    "# Reshape the dataset into 4D array\n",
    "x_train = x_train.reshape(x_train.shape[0], 28,28,1)\n",
    "x_test = x_test.reshape(x_test.shape[0], 28,28,1)\n",
    "\n",
    "x_train = np.pad(x_train, ((0,0),(2,2),(2,2),(0,0)), 'constant')\n",
    "x_test  = np.pad(x_test, ((0,0),(2,2),(2,2),(0,0)), 'constant')\n",
    "\n",
    "# Normalize value to [-0.1, 1.175]\n",
    "x_train = ((1.275*x_train)/255) - 0.1\n",
    "x_test = ((1.275*x_test)/255) - 0.1\n",
    "\n",
    "\n",
    "print(\"The shape of training image with padding:\", x_train.shape)\n",
    "print(\"The shape of testing image with padding: \", x_test.shape)"
   ]
  },
  {
   "cell_type": "markdown",
   "metadata": {
    "colab_type": "text",
    "id": "mGuudsNecuCB"
   },
   "source": [
    "# Structure of LeNet5"
   ]
  },
  {
   "cell_type": "markdown",
   "metadata": {
    "colab_type": "text",
    "id": "RrEWufUocuCC"
   },
   "source": [
    "## Defining basic blocks"
   ]
  },
  {
   "cell_type": "markdown",
   "metadata": {
    "colab_type": "text",
    "id": "HoG2jM4rcuCG"
   },
   "source": [
    "## 1. Convolution"
   ]
  },
  {
   "cell_type": "code",
   "execution_count": 0,
   "metadata": {
    "colab": {},
    "colab_type": "code",
    "id": "nbOGBiT9cuCH"
   },
   "outputs": [],
   "source": [
    "'''\n",
    "Finding forward propagation for a convolution function \n",
    "'''\n",
    "\n",
    "import numpy as np \n",
    "from scipy.signal import convolve2d\n",
    "\n",
    "def conv_forward(A_prev, W, b, stride=1):\n",
    "    \"\"\"\n",
    "    Input:\n",
    "    A_prev -- output activations of the previous layer, numpy array of shape (m, n_prev, n_prev, n_C_prev)\n",
    "    W -- Weights, numpy array of shape (f, f, n_C_prev, n_C)\n",
    "    b -- Biases, numpy array of shape (1, 1, 1, n_C)\n",
    "    stride -- integer\n",
    "        \n",
    "    Output:\n",
    "    Z -- conv output, numpy array of shape (m, n, n, n_C)\n",
    "    \"\"\"\n",
    "    (m, n_prev, n_prev, n_C_prev) = A_prev.shape\n",
    "    (f, f, n_C_prev, n_C) = W.shape\n",
    "    \n",
    "    n = int((n_prev - f)/stride + 1)\n",
    "\n",
    "    Z = np.zeros((m, n, n, n_C))\n",
    "    \n",
    "    for h in range(n):                            \n",
    "        for w in range(n):                       \n",
    "            A_slice_prev = A_prev[:, h*stride:h*stride+f, w*stride:w*stride+f, :]\n",
    "            Z[:, h, w, :] = np.tensordot(A_slice_prev, W, axes=([1,2,3],[0,1,2])) + b\n",
    "                            \n",
    "    assert(Z.shape == (m, n, n, n_C)) \n",
    "    return Z"
   ]
  },
  {
   "cell_type": "markdown",
   "metadata": {
    "colab_type": "text",
    "id": "s4nf4Pp5cuCL"
   },
   "source": [
    "## 2. SubSample Layer"
   ]
  },
  {
   "cell_type": "code",
   "execution_count": 0,
   "metadata": {
    "colab": {},
    "colab_type": "code",
    "id": "5nBvqbeUcuCP"
   },
   "outputs": [],
   "source": [
    "def pool_forward(A_prev, stride, filt):\n",
    "    \"\"\"\n",
    "    Input:\n",
    "    A_prev -- output activations of the previous layer, numpy array of shape (m, n_prev, n_prev, n_C_prev)\n",
    "    stride -- integer\n",
    "    filt -- size of kernel\n",
    "    \n",
    "    Output:\n",
    "    A -- average pooling output, numpy array of shape (m, n, n, n_C)\n",
    "    \"\"\"\n",
    "    (m, n_prev, n_prev, n_C_prev) = A_prev.shape\n",
    "    f = filt\n",
    "    \n",
    "    n = int(1 + (n_prev - f) / stride)\n",
    "    \n",
    "    n_C = n_C_prev\n",
    "\n",
    "    A = np.zeros((m, n, n, n_C))      \n",
    "    \n",
    "    for h in range(n):                      \n",
    "        for w in range(n):                  \n",
    "\n",
    "            A_prev_slice = A_prev[:, h*stride:h*stride+f, w*stride:w*stride+f, :]  \n",
    "            A[:, h, w, :] = np.average(A_prev_slice, axis=(1,2))\n",
    "\n",
    "    assert(A.shape == (m, n, n, n_C))\n",
    "    return A"
   ]
  },
  {
   "cell_type": "markdown",
   "metadata": {
    "colab_type": "text",
    "id": "yqjqW6npcuCT"
   },
   "source": [
    "## 3. Activation Tanh "
   ]
  },
  {
   "cell_type": "code",
   "execution_count": 0,
   "metadata": {
    "colab": {},
    "colab_type": "code",
    "id": "n6_LxLrWcuCU"
   },
   "outputs": [],
   "source": [
    "def TanH(x):\n",
    "    return 1.7159*np.tanh(2*x/3)"
   ]
  },
  {
   "cell_type": "markdown",
   "metadata": {
    "colab_type": "text",
    "id": "6YmCdHjdcuCZ"
   },
   "source": [
    "## Function to initialise weights and biases"
   ]
  },
  {
   "cell_type": "code",
   "execution_count": 0,
   "metadata": {
    "colab": {},
    "colab_type": "code",
    "id": "e4rzP3dycuCb"
   },
   "outputs": [],
   "source": [
    "def initialize(kernel_shape):\n",
    "    b_shape = (1,1,1,kernel_shape[-1]) if len(kernel_shape)==4 else (kernel_shape[-1],)\n",
    "    Fan_in = np.prod(kernel_shape)/kernel_shape[-1]\n",
    "    weight = np.random.uniform(-2.4/Fan_in, 2.4/Fan_in,  kernel_shape) \n",
    "    bias   = np.ones(b_shape)*0.01\n",
    "    return weight, bias"
   ]
  },
  {
   "cell_type": "markdown",
   "metadata": {
    "colab_type": "text",
    "id": "MMRb_sE8cuCi"
   },
   "source": [
    "## Defining Layer Objects"
   ]
  },
  {
   "cell_type": "markdown",
   "metadata": {
    "colab_type": "text",
    "id": "eftbxWL7cuCj"
   },
   "source": [
    "## 1. Convolution Layer"
   ]
  },
  {
   "cell_type": "code",
   "execution_count": 0,
   "metadata": {
    "colab": {},
    "colab_type": "code",
    "id": "rVJcMvJVcuCk"
   },
   "outputs": [],
   "source": [
    "class ConvLayer(object):\n",
    "    def __init__(self, kernel_shape, stride):\n",
    "        \"\"\"\n",
    "        kernel_shape: (n_f, n_f, n_C_prev, n_C)\n",
    "        stride -- integer\n",
    "        \"\"\"\n",
    "        self.stride = stride\n",
    "        self.weight, self.bias = initialize(kernel_shape)\n",
    "        \n",
    "    def foward_prop(self, input_map):\n",
    "        return conv_forward(input_map, self.weight, self.bias, self.stride)"
   ]
  },
  {
   "cell_type": "code",
   "execution_count": 0,
   "metadata": {
    "colab": {},
    "colab_type": "code",
    "id": "lkWwVqtdcuCp"
   },
   "outputs": [],
   "source": [
    "C3_mapping = [[0,1,2],[1,2,3],[2,3,4],[3,4,5],[4,5,0],[5,0,1],\\\n",
    "              [0,1,2,3],[1,2,3,4],[2,3,4,5],[3,4,5,0],[4,5,0,1],[5,0,1,2],\\\n",
    "              [0,1,3,4],[1,2,4,5],[0,2,3,5],\\\n",
    "              [0,1,2,3,4,5]]\n",
    "\n",
    "class ConvLayer_C3(object):\n",
    "    def __init__(self, kernel_shape, stride, mapping):\n",
    "        \"\"\"\n",
    "        kernel_shape: (n_f, n_f, n_C_prev, n_C)\n",
    "        stride -- integer\n",
    "        \"\"\"\n",
    "        self.stride = stride\n",
    "        self.mapping = mapping\n",
    "        self.wb = []      \n",
    "        for i in range(len(self.mapping)):\n",
    "            weight_shape = (kernel_shape[0], kernel_shape[1], len(self.mapping[i]), 1)\n",
    "            w, b = initialize(weight_shape)\n",
    "            self.wb.append([w, b])\n",
    "        \n",
    "    def foward_prop(self, input_map):\n",
    "        self.inputmap_shape = input_map.shape \n",
    "        output_maps = []\n",
    "        for i in range(len(self.mapping)):\n",
    "            output_map = conv_forward(input_map[:,:,:,self.mapping[i]], self.wb[i][0], self.wb[i][1], self.stride)\n",
    "            output_maps.append(output_map)\n",
    "        output_maps = np.swapaxes(np.array(output_maps),0,4)[0]\n",
    "        return output_maps"
   ]
  },
  {
   "cell_type": "markdown",
   "metadata": {
    "colab_type": "text",
    "id": "HAorqNugcuCt"
   },
   "source": [
    "## 2. Subsampling Layer"
   ]
  },
  {
   "cell_type": "code",
   "execution_count": 0,
   "metadata": {
    "colab": {},
    "colab_type": "code",
    "id": "SCXhEPiScuCx"
   },
   "outputs": [],
   "source": [
    "class PoolingLayer(object):\n",
    "    def __init__(self, stride, filt):\n",
    "        self.stride = stride\n",
    "        self.filt = filt\n",
    "        \n",
    "    def foward_prop(self, input_map):   \n",
    "        A = pool_forward(input_map, self.stride, self.filt)\n",
    "        return A"
   ]
  },
  {
   "cell_type": "markdown",
   "metadata": {
    "colab_type": "text",
    "id": "A9UhD9QCcuC3"
   },
   "source": [
    "## 3. Tanh Layer"
   ]
  },
  {
   "cell_type": "code",
   "execution_count": 0,
   "metadata": {
    "colab": {},
    "colab_type": "code",
    "id": "Ms3Pk0WAcuC5"
   },
   "outputs": [],
   "source": [
    "class Activation(object):\n",
    "    def __init__(self, mode):    \n",
    "        self.act = mode\n",
    "        \n",
    "    def foward_prop(self, input_image): \n",
    "        self.input_image = input_image\n",
    "        return TanH(input_image)"
   ]
  },
  {
   "cell_type": "markdown",
   "metadata": {
    "colab_type": "text",
    "id": "RUv59hz6cuDD"
   },
   "source": [
    "## 4. Fully-Connected Layer"
   ]
  },
  {
   "cell_type": "code",
   "execution_count": 0,
   "metadata": {
    "colab": {},
    "colab_type": "code",
    "id": "h8U54zGGcuDF"
   },
   "outputs": [],
   "source": [
    "class FCLayer(object):\n",
    "    def __init__(self, weight_shape): \n",
    "        \n",
    "        # Initialization\n",
    "        self.weight, self.bias = initialize(weight_shape)\n",
    "        \n",
    "    def foward_prop(self, input_array):\n",
    "        self.input_array = input_array  \n",
    "        return np.matmul(self.input_array, self.weight)"
   ]
  },
  {
   "cell_type": "markdown",
   "metadata": {
    "colab_type": "text",
    "id": "nTV2vTvEcuDK"
   },
   "source": [
    "## 5. Radial Basis Function"
   ]
  },
  {
   "cell_type": "markdown",
   "metadata": {
    "colab_type": "text",
    "id": "s8Sa_bSZo4W_"
   },
   "source": [
    "The output layer of LeNet-5 consists of 10 Radial Basis Function Units, following Euclidean norms over the radial distances. Separate forward passes are implemented for training and inference."
   ]
  },
  {
   "cell_type": "code",
   "execution_count": 0,
   "metadata": {
    "colab": {},
    "colab_type": "code",
    "id": "fEgVhRpwcuDL"
   },
   "outputs": [],
   "source": [
    "class RBFLayer(object):\n",
    "    def __init__(self, bitmaps):\n",
    "        '''\n",
    "        ARGUMENTS:\n",
    "          bitmaps: numpy array of dimension 12x7, one for each class\n",
    "\n",
    "        RETURNS:\n",
    "          loss: squared-error sum of RBF distances\n",
    "          class_pred: the predicted class with the minimum distance\n",
    "        '''\n",
    "\n",
    "        self.bitmaps = bitmaps    #Initializing Bitmaps\n",
    "        \n",
    "    def forward_prop(self, input_array, label):\n",
    "        self.labelled_weight = []\n",
    "        for i in range(input_array.shape[0]):\n",
    "            self.labelled_weight.append(self.bitmaps[label[i]])   #Getting Bitmaps of correct class for each sample\n",
    "        subtract_weight_train = input_array - np.array(self.labelled_weight)    #Finding loss wrt to correct class \n",
    "        subtract_weight_test = input_array[:, np.newaxis, :] - np.array(input_array.shape[0]*self.bitmaps)    #Finding loss wrt to all the classes for inference\n",
    "        predictions = np.sum(np.power(subtract_weight_test, 2), axis=2)   \n",
    "        class_pred = np.argmin(predictions, axis=1)   #Selecting the class with minm loss as the predicted class\n",
    "        loss = np.sum(np.power(subtract_weight_train, 2), axis=1)\n",
    "        return loss, class_pred"
   ]
  },
  {
   "cell_type": "markdown",
   "metadata": {
    "colab_type": "text",
    "id": "5w_UQPW6dW-J"
   },
   "source": [
    "# BitMaps"
   ]
  },
  {
   "cell_type": "markdown",
   "metadata": {
    "colab_type": "text",
    "id": "vBGvTAnjolWd"
   },
   "source": [
    "BITMAPS are manually set as matrices of dimension 12*7, such that each bitmap resembles closely to the 2D Image representation of the particular ASCII character. (Source: LeNet-5. Le Cunn 1998)"
   ]
  },
  {
   "cell_type": "code",
   "execution_count": 0,
   "metadata": {
    "colab": {},
    "colab_type": "code",
    "id": "C0gxNxtNdS6b"
   },
   "outputs": [],
   "source": [
    "'''\n",
    "BITMAP ARRAYS for DIGIT 0-9\n",
    "'''\n",
    "\n",
    "bitmap = np.zeros((10,84))\n",
    "bitmap[0]=np.array([\n",
    "    [-1, +1, +1, +1, +1, +1, -1] + \\\n",
    "    [-1, -1, -1, -1, -1, -1, -1] + \\\n",
    "    [-1, -1, +1, +1, +1, -1, -1] + \\\n",
    "    [-1, +1, +1, -1, +1, +1, -1] + \\\n",
    "    [+1, +1, -1, -1, -1, +1, +1] + \\\n",
    "    [+1, +1, -1, -1, -1, +1, +1] + \\\n",
    "    [+1, +1, -1, -1, -1, +1, +1] + \\\n",
    "    [+1, +1, -1, -1, -1, +1, +1] + \\\n",
    "    [-1, +1, +1, -1, +1, +1, -1] + \\\n",
    "    [-1, -1, +1, +1, +1, -1, -1] + \\\n",
    "    [-1, -1, -1, -1, -1, -1, -1] + \\\n",
    "    [-1, -1, -1, -1, -1, -1, -1] \\\n",
    "])\n",
    "bitmap[1]=np.array([\n",
    "    [-1, -1, -1, +1, +1, -1, -1] + \\\n",
    "    [-1, -1, +1, +1, +1, -1, -1] + \\\n",
    "    [-1, +1, +1, +1, +1, -1, -1] + \\\n",
    "    [-1, -1, -1, +1, +1, -1, -1] + \\\n",
    "    [-1, -1, -1, +1, +1, -1, -1] + \\\n",
    "    [-1, -1, -1, +1, +1, -1, -1] + \\\n",
    "    [-1, -1, -1, +1, +1, -1, -1] + \\\n",
    "    [-1, -1, -1, +1, +1, -1, -1] + \\\n",
    "    [-1, -1, -1, +1, +1, -1, -1] + \\\n",
    "    [-1, +1, +1, +1, +1, +1, +1] + \\\n",
    "    [-1, -1, -1, -1, -1, -1, -1] + \\\n",
    "    [-1, -1, -1, -1, -1, -1, -1] \\\n",
    "])\n",
    "bitmap[2]=np.array([\n",
    "    [-1, +1, +1, +1, +1, +1, -1] + \\\n",
    "    [-1, -1, -1, -1, -1, -1, -1] + \\\n",
    "    [-1, +1, +1, +1, +1, +1, -1] + \\\n",
    "    [+1, +1, -1, -1, -1, +1, +1] + \\\n",
    "    [+1, -1, -1, -1, -1, +1, +1] + \\\n",
    "    [-1, -1, -1, -1, +1, +1, -1] + \\\n",
    "    [-1, -1, +1, +1, +1, -1, -1] + \\\n",
    "    [-1, +1, +1, -1, -1, -1, -1] + \\\n",
    "    [+1, +1, -1, -1, -1, -1, -1] + \\\n",
    "    [+1, +1, +1, +1, +1, +1, +1] + \\\n",
    "    [-1, -1, -1, -1, -1, -1, -1] + \\\n",
    "    [-1, -1, -1, -1, -1, -1, -1] \\\n",
    "])\n",
    "bitmap[3]=np.array([\n",
    "    [+1, +1, +1, +1, +1, +1, +1] + \\\n",
    "    [-1, -1, -1, -1, -1, +1, +1] + \\\n",
    "    [-1, -1, -1, -1, +1, +1, -1] + \\\n",
    "    [-1, -1, -1, +1, +1, -1, -1] + \\\n",
    "    [-1, -1, +1, +1, +1, +1, -1] + \\\n",
    "    [-1, -1, -1, -1, -1, +1, +1] + \\\n",
    "    [-1, -1, -1, -1, -1, +1, +1] + \\\n",
    "    [-1, -1, -1, -1, -1, +1, +1] + \\\n",
    "    [+1, +1, -1, -1, -1, +1, +1] + \\\n",
    "    [-1, +1, +1, +1, +1, +1, -1] + \\\n",
    "    [-1, -1, -1, -1, -1, -1, -1] + \\\n",
    "    [-1, -1, -1, -1, -1, -1, -1] \\\n",
    "])\n",
    "bitmap[4]=np.array([\n",
    "    [-1, +1, +1, +1, +1, +1, -1] + \\\n",
    "    [-1, -1, -1, -1, -1, -1, -1] + \\\n",
    "    [-1, -1, -1, -1, -1, -1, -1] + \\\n",
    "    [-1, +1, +1, -1, -1, +1, +1] + \\\n",
    "    [-1, +1, +1, -1, -1, +1, +1] + \\\n",
    "    [+1, +1, +1, -1, -1, +1, +1] + \\\n",
    "    [+1, +1, -1, -1, -1, +1, +1] + \\\n",
    "    [+1, +1, -1, -1, -1, +1, +1] + \\\n",
    "    [+1, +1, -1, -1, +1, +1, +1] + \\\n",
    "    [-1, +1, +1, +1, +1, +1, +1] + \\\n",
    "    [-1, -1, -1, -1, -1, +1, +1] + \\\n",
    "    [-1, -1, -1, -1, -1, +1, +1] \\\n",
    "])\n",
    "bitmap[5]=np.array([\n",
    "    [-1, +1, +1, +1, +1, +1, -1] + \\\n",
    "    [-1, -1, -1, -1, -1, -1, -1] + \\\n",
    "    [+1, +1, +1, +1, +1, +1, +1] + \\\n",
    "    [+1, +1, -1, -1, -1, -1, -1] + \\\n",
    "    [+1, +1, -1, -1, -1, -1, -1] + \\\n",
    "    [-1, +1, +1, +1, +1, -1, -1] + \\\n",
    "    [-1, -1, +1, +1, +1, +1, -1] + \\\n",
    "    [-1, -1, -1, -1, -1, +1, +1] + \\\n",
    "    [+1, +1, -1, -1, -1, +1, +1] + \\\n",
    "    [-1, +1, +1, +1, +1, +1, -1] + \\\n",
    "    [-1, -1, -1, -1, -1, -1, -1] + \\\n",
    "    [-1, -1, -1, -1, -1, -1, -1] \\\n",
    "])\n",
    "bitmap[6]=np.array([\n",
    "    [-1, -1, +1, +1, +1, +1, -1] + \\\n",
    "    [-1, +1, +1, -1, -1, -1, -1] + \\\n",
    "    [+1, +1, -1, -1, -1, -1, -1] + \\\n",
    "    [+1, +1, -1, -1, -1, -1, -1] + \\\n",
    "    [+1, +1, +1, +1, +1, +1, -1] + \\\n",
    "    [+1, +1, +1, -1, -1, +1, +1] + \\\n",
    "    [+1, +1, -1, -1, -1, +1, +1] + \\\n",
    "    [+1, +1, -1, -1, -1, +1, +1] + \\\n",
    "    [+1, +1, +1, -1, -1, +1, +1] + \\\n",
    "    [-1, +1, +1, +1, +1, +1, -1] + \\\n",
    "    [-1, -1, -1, -1, -1, -1, -1] + \\\n",
    "    [-1, -1, -1, -1, -1, -1, -1] \\\n",
    "])\n",
    "bitmap[7]=np.array([\n",
    "    [+1, +1, +1, +1, +1, +1, +1] + \\\n",
    "    [-1, -1, -1, -1, -1, +1, +1] + \\\n",
    "    [-1, -1, -1, -1, -1, +1, +1] + \\\n",
    "    [-1, -1, -1, -1, +1, +1, -1] + \\\n",
    "    [-1, -1, -1, +1, +1, -1, -1] + \\\n",
    "    [-1, -1, -1, +1, +1, -1, -1] + \\\n",
    "    [-1, -1, +1, +1, -1, -1, -1] + \\\n",
    "    [-1, -1, +1, +1, -1, -1, -1] + \\\n",
    "    [-1, -1, +1, +1, -1, -1, -1] + \\\n",
    "    [-1, -1, +1, +1, -1, -1, -1] + \\\n",
    "    [-1, -1, -1, -1, -1, -1, -1] + \\\n",
    "    [-1, -1, -1, -1, -1, -1, -1] \\\n",
    "])\n",
    "bitmap[8]=np.array([\n",
    "    [-1, +1, +1, +1, +1, +1, -1] + \\\n",
    "    [+1, +1, -1, -1, -1, +1, +1] + \\\n",
    "    [+1, +1, -1, -1, -1, +1, +1] + \\\n",
    "    [+1, +1, -1, -1, -1, +1, +1] + \\\n",
    "    [-1, +1, +1, +1, +1, +1, -1] + \\\n",
    "    [+1, +1, -1, -1, -1, +1, +1] + \\\n",
    "    [+1, +1, -1, -1, -1, +1, +1] + \\\n",
    "    [+1, +1, -1, -1, -1, +1, +1] + \\\n",
    "    [+1, +1, -1, -1, -1, +1, +1] + \\\n",
    "    [-1, +1, +1, +1, +1, +1, -1] + \\\n",
    "    [-1, -1, -1, -1, -1, -1, -1] + \\\n",
    "    [-1, -1, -1, -1, -1, -1, -1] \\\n",
    "])\n",
    "bitmap[9]=np.array([\n",
    "    [-1, +1, +1, +1, +1, +1, -1] + \\\n",
    "    [+1, +1, -1, -1, +1, +1, +1] + \\\n",
    "    [+1, +1, -1, -1, -1, +1, +1] + \\\n",
    "    [+1, +1, -1, -1, -1, +1, +1] + \\\n",
    "    [+1, +1, -1, -1, +1, +1, +1] + \\\n",
    "    [-1, +1, +1, +1, +1, +1, +1] + \\\n",
    "    [-1, -1, -1, -1, -1, +1, +1] + \\\n",
    "    [-1, -1, -1, -1, -1, +1, +1] + \\\n",
    "    [-1, -1, -1, -1, +1, +1, -1] + \\\n",
    "    [-1, +1, +1, +1, +1, -1, -1] + \\\n",
    "    [-1, -1, -1, -1, -1, -1, -1] + \\\n",
    "    [-1, -1, -1, -1, -1, -1, -1] \\\n",
    "])\n"
   ]
  },
  {
   "cell_type": "markdown",
   "metadata": {
    "colab_type": "text",
    "id": "FBuza4e7cuDT"
   },
   "source": [
    "# LeNet5 Model"
   ]
  },
  {
   "cell_type": "code",
   "execution_count": 0,
   "metadata": {
    "colab": {},
    "colab_type": "code",
    "id": "YkUW6BiQcuDU"
   },
   "outputs": [],
   "source": [
    "class LeNet5(object):\n",
    "    def __init__(self, rbf_bitmaps):\n",
    "        \n",
    "        self.C1 = ConvLayer(kernel_shape=(5,5,1,6), stride=1)\n",
    "        self.a1 = Activation(\"Tanh\")\n",
    "        self.S2 = PoolingLayer(stride=2, filt=2)\n",
    "        \n",
    "        self.C3 = ConvLayer_C3(kernel_shape=(5,5,6,16), stride=1, mapping=C3_mapping)\n",
    "        self.a2 = Activation(\"Tanh\")\n",
    "        self.S4 = PoolingLayer(stride=2, filt=2)\n",
    "        \n",
    "        self.C5 = ConvLayer(kernel_shape=(5,5,16,120), stride=1)\n",
    "        self.a3 = Activation(\"Tanh\")\n",
    "\n",
    "        self.F6 = FCLayer(weight_shape=(120,84))\n",
    "        self.a4 = Activation(\"Tanh\")\n",
    "        \n",
    "        self.rbf = RBFLayer(bitmap)\n",
    "            \n",
    "    def Forward_Propagation(self, input_image, labels): \n",
    "        self.C1_FP = self.C1.foward_prop(input_image)\n",
    "        self.a1_FP = self.a1.foward_prop(self.C1_FP)\n",
    "        self.S2_FP = self.S2.foward_prop(self.a1_FP)\n",
    "\n",
    "        self.C3_FP = self.C3.foward_prop(self.S2_FP)\n",
    "        self.a2_FP = self.a2.foward_prop(self.C3_FP)\n",
    "        self.S4_FP = self.S4.foward_prop(self.a2_FP)\n",
    "\n",
    "        self.C5_FP = self.C5.foward_prop(self.S4_FP)\n",
    "        self.a3_FP = self.a3.foward_prop(self.C5_FP)\n",
    "\n",
    "        self.flatten = self.a3_FP[:,0,0,:]\n",
    "        self.F6_FP = self.F6.foward_prop(self.flatten)\n",
    "        self.a4_FP = self.a4.foward_prop(self.F6_FP)\n",
    "\n",
    "        self.loss, self.pred = self.rbf.forward_prop(self.a4_FP, labels) \n",
    "        \n",
    "        return self.loss, self.pred, self.a4_FP"
   ]
  },
  {
   "cell_type": "code",
   "execution_count": 0,
   "metadata": {
    "colab": {},
    "colab_type": "code",
    "id": "AmTQHgfRcuDa"
   },
   "outputs": [],
   "source": [
    "ConvNet = LeNet5(rbf_bitmaps=bitmap)"
   ]
  },
  {
   "cell_type": "markdown",
   "metadata": {
    "colab_type": "text",
    "id": "nbClQvSFcuDi"
   },
   "source": [
    "# Filters (Kernels) \n",
    "\n",
    "The initialise function uses gaussian distribution with mean = 0 and variance = 0.1 to initialise the weights i.e. filters and biases for the first time"
   ]
  },
  {
   "cell_type": "code",
   "execution_count": 18,
   "metadata": {
    "colab": {
     "base_uri": "https://localhost:8080/",
     "height": 0
    },
    "colab_type": "code",
    "id": "KmZhpEZ3cuDj",
    "outputId": "ec0dc620-7c4f-4ee6-b90f-ded939a651d4"
   },
   "outputs": [
    {
     "data": {
      "image/png": "[encoded data removed]",
      "text/plain": [
       "<Figure size 1080x1080 with 6 Axes>"
      ]
     },
     "metadata": {
      "tags": []
     },
     "output_type": "display_data"
    }
   ],
   "source": [
    "fig, axarr = plt.subplots(1,6,figsize=(15,15))\n",
    "for i in range(6):\n",
    "    axarr[i].axis('off')\n",
    "    axarr[i].imshow(ConvNet.C1.weight[:,:,0,i], cmap=mpl.cm.Greys)"
   ]
  },
  {
   "cell_type": "code",
   "execution_count": 19,
   "metadata": {
    "colab": {
     "base_uri": "https://localhost:8080/",
     "height": 0
    },
    "colab_type": "code",
    "id": "t9-jEqQHcuDn",
    "outputId": "c1549c84-4d8f-4a64-9e97-b4bcd94bd470"
   },
   "outputs": [
    {
     "data": {
      "image/png": "[encoded data removed]",
      "text/plain": [
       "<Figure size 720x720 with 16 Axes>"
      ]
     },
     "metadata": {
      "tags": []
     },
     "output_type": "display_data"
    }
   ],
   "source": [
    "fig, axarr = plt.subplots(4,4,figsize=(10,10))\n",
    "C3_kernel = np.array(ConvNet.C3.wb)[:,0].T\n",
    "j = 0\n",
    "row = 0\n",
    "for i in range(4):\n",
    "    for j in range(4):\n",
    "        \n",
    "        if i+j<6:\n",
    "            k=3\n",
    "        elif i+j<15:\n",
    "            k=4\n",
    "        else:\n",
    "            k=6\n",
    "        axarr[i,j].imshow(C3_kernel[i+j][:,:,0,0], cmap=mpl.cm.Greys)"
   ]
  },
  {
   "cell_type": "markdown",
   "metadata": {
    "colab_type": "text",
    "id": "SGMePX3WcuDq"
   },
   "source": [
    "# Running a single pass"
   ]
  },
  {
   "cell_type": "markdown",
   "metadata": {
    "colab_type": "text",
    "id": "m7QmTIfvcuDr"
   },
   "source": [
    "## Sample Image"
   ]
  },
  {
   "cell_type": "code",
   "execution_count": 20,
   "metadata": {
    "colab": {
     "base_uri": "https://localhost:8080/",
     "height": 0
    },
    "colab_type": "code",
    "id": "8967B8-kcuDr",
    "outputId": "182aee58-4d3c-4884-a302-d4cc6bfc5a69",
    "scrolled": true
   },
   "outputs": [
    {
     "data": {
      "text/plain": [
       "<matplotlib.image.AxesImage at 0x7f7274a5d320>"
      ]
     },
     "execution_count": 20,
     "metadata": {
      "tags": []
     },
     "output_type": "execute_result"
    },
    {
     "data": {
      "image/png": "[encoded data removed]",
      "text/plain": [
       "<Figure size 432x288 with 1 Axes>"
      ]
     },
     "metadata": {
      "tags": []
     },
     "output_type": "display_data"
    }
   ],
   "source": [
    "index = np.random.randint(60000,size=2)\n",
    "x_sample = x_train[index,:,:,:]\n",
    "y_sample = y_train[index]\n",
    "plt.imshow(x_sample[0,:,:,0], cmap=mpl.cm.Greys)"
   ]
  },
  {
   "cell_type": "markdown",
   "metadata": {
    "colab_type": "text",
    "id": "EArIZDhx_S_I"
   },
   "source": [
    "# RBF"
   ]
  },
  {
   "cell_type": "code",
   "execution_count": 21,
   "metadata": {
    "colab": {
     "base_uri": "https://localhost:8080/",
     "height": 1000
    },
    "colab_type": "code",
    "id": "rrVX8Jgieocy",
    "outputId": "bea58fc4-d4db-464a-b172-a0f95743ce69"
   },
   "outputs": [
    {
     "data": {
      "image/png": "[encoded data removed]",
      "text/plain": [
       "<Figure size 432x288 with 1 Axes>"
      ]
     },
     "metadata": {
      "tags": []
     },
     "output_type": "display_data"
    },
    {
     "data": {
      "image/png": "[encoded data removed]",
      "text/plain": [
       "<Figure size 432x288 with 1 Axes>"
      ]
     },
     "metadata": {
      "tags": []
     },
     "output_type": "display_data"
    },
    {
     "data": {
      "image/png": "[encoded data removed]",
      "text/plain": [
       "<Figure size 432x288 with 1 Axes>"
      ]
     },
     "metadata": {
      "tags": []
     },
     "output_type": "display_data"
    },
    {
     "data": {
      "image/png": "[encoded data removed]",
      "text/plain": [
       "<Figure size 432x288 with 1 Axes>"
      ]
     },
     "metadata": {
      "tags": []
     },
     "output_type": "display_data"
    },
    {
     "data": {
      "image/png": "[encoded data removed]",
      "text/plain": [
       "<Figure size 432x288 with 1 Axes>"
      ]
     },
     "metadata": {
      "tags": []
     },
     "output_type": "display_data"
    },
    {
     "data": {
      "image/png": "[encoded data removed]",
      "text/plain": [
       "<Figure size 432x288 with 1 Axes>"
      ]
     },
     "metadata": {
      "tags": []
     },
     "output_type": "display_data"
    },
    {
     "data": {
      "image/png": "[encoded data removed]",
      "text/plain": [
       "<Figure size 432x288 with 1 Axes>"
      ]
     },
     "metadata": {
      "tags": []
     },
     "output_type": "display_data"
    },
    {
     "data": {
      "image/png": "[encoded data removed]",
      "text/plain": [
       "<Figure size 432x288 with 1 Axes>"
      ]
     },
     "metadata": {
      "tags": []
     },
     "output_type": "display_data"
    },
    {
     "data": {
      "image/png": "[encoded data removed]",
      "text/plain": [
       "<Figure size 432x288 with 1 Axes>"
      ]
     },
     "metadata": {
      "tags": []
     },
     "output_type": "display_data"
    },
    {
     "data": {
      "image/png": "[encoded data removed]",
      "text/plain": [
       "<Figure size 432x288 with 1 Axes>"
      ]
     },
     "metadata": {
      "tags": []
     },
     "output_type": "display_data"
    }
   ],
   "source": [
    "#Visualizing the BITMAPS\n",
    "for i in range(10):\n",
    "    plt.imshow(bitmap[i].reshape(12,7), cmap=\"Greys\")\n",
    "    plt.pause(0.1)"
   ]
  },
  {
   "cell_type": "code",
   "execution_count": 22,
   "metadata": {
    "colab": {
     "base_uri": "https://localhost:8080/",
     "height": 86
    },
    "colab_type": "code",
    "id": "BL1lgk_sefdm",
    "outputId": "a0ad7cf4-9a55-4a16-bb7b-f5ef8b6d287d"
   },
   "outputs": [
    {
     "name": "stdout",
     "output_type": "stream",
     "text": [
      "Sample Predictions for a sample of 5 images\n",
      " Class Predictions:  [9 9 9 5 7] \n",
      " True labels:  [5 0 4 1 9]\n",
      "Loss:  84.04856966282448\n"
     ]
    }
   ],
   "source": [
    "#Forward Pass with RBF Output Layer\n",
    "out, class_pred, a4_FP = ConvNet.Forward_Propagation(x_train[0:5], y_train[0:5])\n",
    "\n",
    "y_true = y_train[0:5]\n",
    "print(\"Sample Predictions for a sample of 5 images\\n\", \n",
    "      \"Class Predictions: \", class_pred, \"\\n\", \n",
    "      \"True labels: \", y_true)\n",
    "\n",
    "print(\"Loss: \", np.mean(out))"
   ]
  },
  {
   "cell_type": "code",
   "execution_count": 23,
   "metadata": {
    "colab": {
     "base_uri": "https://localhost:8080/",
     "height": 282
    },
    "colab_type": "code",
    "id": "X8XSN7nOzlfO",
    "outputId": "ed706965-50a4-4ea2-bedf-df0bab6d6f7c"
   },
   "outputs": [
    {
     "data": {
      "text/plain": [
       "<matplotlib.image.AxesImage at 0x7f727550cc50>"
      ]
     },
     "execution_count": 23,
     "metadata": {
      "tags": []
     },
     "output_type": "execute_result"
    },
    {
     "data": {
      "image/png": "[encoded data removed]",
      "text/plain": [
       "<Figure size 432x288 with 1 Axes>"
      ]
     },
     "metadata": {
      "tags": []
     },
     "output_type": "display_data"
    }
   ],
   "source": [
    "#Visualizing activations from RBF Inputs\n",
    "plt.imshow(ConvNet.Forward_Propagation(x_train[0:2], y_train[0:2])[2][1].reshape(12, 7), cmap='Greys')"
   ]
  },
  {
   "cell_type": "markdown",
   "metadata": {
    "colab_type": "text",
    "id": "zEqklvW5cuDz"
   },
   "source": [
    "## Feature Maps of Layer1: Conv_1"
   ]
  },
  {
   "cell_type": "code",
   "execution_count": 24,
   "metadata": {
    "colab": {
     "base_uri": "https://localhost:8080/",
     "height": 193
    },
    "colab_type": "code",
    "id": "G_mjlaVMcuD0",
    "outputId": "9ed71bd2-a685-4044-e2e9-80eab12b029e"
   },
   "outputs": [
    {
     "data": {
      "image/png": "[encoded data removed]",
      "text/plain": [
       "<Figure size 1296x648 with 6 Axes>"
      ]
     },
     "metadata": {
      "tags": []
     },
     "output_type": "display_data"
    }
   ],
   "source": [
    "C1map = ConvNet.C1_FP[0]\n",
    "fig, axarr = plt.subplots(1,6,figsize=(18,9))\n",
    "\n",
    "for j in range(6):\n",
    "    axarr[j].imshow(C1map[:,:,j], cmap=mpl.cm.Greys)"
   ]
  },
  {
   "cell_type": "markdown",
   "metadata": {
    "colab_type": "text",
    "id": "_XFIL0ZNcuD4"
   },
   "source": [
    "## Feature Maps of Layer1: Activation"
   ]
  },
  {
   "cell_type": "code",
   "execution_count": 25,
   "metadata": {
    "colab": {
     "base_uri": "https://localhost:8080/",
     "height": 193
    },
    "colab_type": "code",
    "id": "3r-8jWx7cuD5",
    "outputId": "fc52873f-76fb-43c8-b0f5-af05085f52fd"
   },
   "outputs": [
    {
     "data": {
      "image/png": "[encoded data removed]",
      "text/plain": [
       "<Figure size 1296x648 with 6 Axes>"
      ]
     },
     "metadata": {
      "tags": []
     },
     "output_type": "display_data"
    }
   ],
   "source": [
    "a1map = ConvNet.a1_FP[0]\n",
    "fig, axarr = plt.subplots(1,6,figsize=(18,9))\n",
    "for j in range(6):\n",
    "    axarr[j].imshow(a1map[:,:,j], cmap=mpl.cm.Greys)"
   ]
  },
  {
   "cell_type": "markdown",
   "metadata": {
    "colab_type": "text",
    "id": "NLYW2dnfcuD-"
   },
   "source": [
    "## Feature Maps of Subsampling S1"
   ]
  },
  {
   "cell_type": "code",
   "execution_count": 26,
   "metadata": {
    "colab": {
     "base_uri": "https://localhost:8080/",
     "height": 191
    },
    "colab_type": "code",
    "id": "xMm3a8P1cuEB",
    "outputId": "f5e5444a-d668-4695-c187-70089bb50057"
   },
   "outputs": [
    {
     "data": {
      "image/png": "[encoded data removed]",
      "text/plain": [
       "<Figure size 1296x648 with 6 Axes>"
      ]
     },
     "metadata": {
      "tags": []
     },
     "output_type": "display_data"
    }
   ],
   "source": [
    "S2map = ConvNet.S2_FP[0]\n",
    "fig, axarr = plt.subplots(1,6,figsize=(18,9))\n",
    "for j in range(6):\n",
    "    axarr[j].imshow(S2map[:,:,j], cmap=mpl.cm.Greys)"
   ]
  },
  {
   "cell_type": "markdown",
   "metadata": {
    "colab_type": "text",
    "id": "oApmrpMZcuEF"
   },
   "source": [
    "## Feature Maps of Conv_3"
   ]
  },
  {
   "cell_type": "code",
   "execution_count": 27,
   "metadata": {
    "colab": {
     "base_uri": "https://localhost:8080/",
     "height": 303
    },
    "colab_type": "code",
    "id": "nCggCdtlcuEF",
    "outputId": "88e73a77-7ac1-4e43-d969-c9cb40d9c11c"
   },
   "outputs": [
    {
     "data": {
      "image/png": "[encoded data removed]",
      "text/plain": [
       "<Figure size 1296x360 with 16 Axes>"
      ]
     },
     "metadata": {
      "tags": []
     },
     "output_type": "display_data"
    }
   ],
   "source": [
    "C3map = ConvNet.C3_FP[0]\n",
    "fig, axarr = plt.subplots(2,8,figsize=(18,5))\n",
    "\n",
    "for j in range(16):\n",
    "    x,y = int(j/8), j%8\n",
    "    axarr[x,y].imshow(C3map[:,:,j], cmap=mpl.cm.Greys)"
   ]
  },
  {
   "cell_type": "markdown",
   "metadata": {
    "colab_type": "text",
    "id": "wPdNZdr0cuEK"
   },
   "source": [
    "## Feature Maps of Activation_2"
   ]
  },
  {
   "cell_type": "code",
   "execution_count": 28,
   "metadata": {
    "colab": {
     "base_uri": "https://localhost:8080/",
     "height": 303
    },
    "colab_type": "code",
    "id": "fKCyC2FrcuEK",
    "outputId": "9b8305d9-b8c5-4660-84ca-ec26a2f5023d"
   },
   "outputs": [
    {
     "data": {
      "image/png": "[encoded data removed]",
      "text/plain": [
       "<Figure size 1296x360 with 16 Axes>"
      ]
     },
     "metadata": {
      "tags": []
     },
     "output_type": "display_data"
    }
   ],
   "source": [
    "a2map = ConvNet.a2_FP[0]\n",
    "fig, axarr = plt.subplots(2,8,figsize=(18,5))\n",
    "\n",
    "for j in range(16):\n",
    "    x,y = int(j/8), j%8\n",
    "    axarr[x,y].imshow(a2map[:,:,j], cmap=mpl.cm.Greys)"
   ]
  },
  {
   "cell_type": "markdown",
   "metadata": {
    "colab_type": "text",
    "id": "iZsBp-OAcuEN"
   },
   "source": [
    "## Feature Maps of Subsampling S4"
   ]
  },
  {
   "cell_type": "code",
   "execution_count": 29,
   "metadata": {
    "colab": {
     "base_uri": "https://localhost:8080/",
     "height": 303
    },
    "colab_type": "code",
    "id": "rvInMi0JcuEP",
    "outputId": "6f038546-f308-4014-a40d-2a6ca8aa163c"
   },
   "outputs": [
    {
     "data": {
      "image/png": "[encoded data removed]",
      "text/plain": [
       "<Figure size 1296x360 with 16 Axes>"
      ]
     },
     "metadata": {
      "tags": []
     },
     "output_type": "display_data"
    }
   ],
   "source": [
    "S4map = ConvNet.S4_FP[0]\n",
    "fig, axarr = plt.subplots(2,8,figsize=(18,5))\n",
    "\n",
    "for j in range(16):\n",
    "    x,y = int(j/8), j%8\n",
    "    axarr[x,y].imshow(S4map[:,:,j], cmap=mpl.cm.Greys)"
   ]
  },
  {
   "cell_type": "markdown",
   "metadata": {
    "colab_type": "text",
    "id": "aZCNTC8acuES"
   },
   "source": [
    "Feature Maps of F6 and a4"
   ]
  },
  {
   "cell_type": "code",
   "execution_count": 30,
   "metadata": {
    "colab": {
     "base_uri": "https://localhost:8080/",
     "height": 282
    },
    "colab_type": "code",
    "id": "WOdMxgc9cuES",
    "outputId": "73083a14-a421-45a8-9b95-d94eee0b2508"
   },
   "outputs": [
    {
     "data": {
      "text/plain": [
       "<matplotlib.image.AxesImage at 0x7f7274924940>"
      ]
     },
     "execution_count": 30,
     "metadata": {
      "tags": []
     },
     "output_type": "execute_result"
    },
    {
     "data": {
      "image/png": "[encoded data removed]",
      "text/plain": [
       "<Figure size 432x288 with 1 Axes>"
      ]
     },
     "metadata": {
      "tags": []
     },
     "output_type": "display_data"
    }
   ],
   "source": [
    "F6map = (ConvNet.F6_FP[0]).reshape(12,7)\n",
    "plt.imshow(F6map, cmap=mpl.cm.Greys)"
   ]
  },
  {
   "cell_type": "code",
   "execution_count": 31,
   "metadata": {
    "colab": {
     "base_uri": "https://localhost:8080/",
     "height": 282
    },
    "colab_type": "code",
    "id": "TxMdvOIgcuEV",
    "outputId": "f2d13fad-f564-4dc8-bcdb-77fe4755dfdd"
   },
   "outputs": [
    {
     "data": {
      "text/plain": [
       "<matplotlib.image.AxesImage at 0x7f72753b86a0>"
      ]
     },
     "execution_count": 31,
     "metadata": {
      "tags": []
     },
     "output_type": "execute_result"
    },
    {
     "data": {
      "image/png": "[encoded data removed]",
      "text/plain": [
       "<Figure size 432x288 with 1 Axes>"
      ]
     },
     "metadata": {
      "tags": []
     },
     "output_type": "display_data"
    }
   ],
   "source": [
    "a4map = (ConvNet.a4_FP[0]).reshape(12,7)\n",
    "plt.imshow(a4map, cmap=mpl.cm.Greys)"
   ]
  }
 ],
 "metadata": {
  "colab": {
   "collapsed_sections": [
    "HoG2jM4rcuCG",
    "s4nf4Pp5cuCL",
    "yqjqW6npcuCT",
    "6YmCdHjdcuCZ",
    "MMRb_sE8cuCi",
    "eftbxWL7cuCj",
    "HAorqNugcuCt",
    "A9UhD9QCcuC3",
    "RUv59hz6cuDD",
    "nbClQvSFcuDi",
    "m7QmTIfvcuDr"
   ],
   "name": "LeNet5NUMPYwithRBF.ipynb",
   "provenance": []
  },
  "kernelspec": {
   "display_name": "Python 3",
   "language": "python",
   "name": "python3"
  },
  "language_info": {
   "codemirror_mode": {
    "name": "ipython",
    "version": 3
   },
   "file_extension": ".py",
   "mimetype": "text/x-python",
   "name": "python",
   "nbconvert_exporter": "python",
   "pygments_lexer": "ipython3",
   "version": "3.6.9"
  }
 },
 "nbformat": 4,
 "nbformat_minor": 1
}
